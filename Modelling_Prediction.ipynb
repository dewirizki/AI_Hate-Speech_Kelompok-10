{
 "cells": [
  {
   "cell_type": "code",
   "execution_count": 4,
   "id": "9cb47021",
   "metadata": {},
   "outputs": [],
   "source": [
    "import pandas as pd\n",
    "import os"
   ]
  },
  {
   "cell_type": "code",
   "execution_count": 6,
   "id": "27b6d2ca",
   "metadata": {},
   "outputs": [],
   "source": [
    "from NLP_Models import model_prediction as mp"
   ]
  },
  {
   "cell_type": "code",
   "execution_count": 5,
   "id": "9d9757c8",
   "metadata": {},
   "outputs": [],
   "source": [
    "os.chdir(\"c:/Users/dewi/UIN/AI/NLP\")"
   ]
  },
  {
   "cell_type": "code",
   "execution_count": 7,
   "id": "533c1f08",
   "metadata": {},
   "outputs": [],
   "source": [
    "dataFinal = pd.read_json('./NLP_Models/data/dataClean.json')"
   ]
  },
  {
   "cell_type": "code",
   "execution_count": 8,
   "id": "efca8ccd",
   "metadata": {},
   "outputs": [
    {
     "data": {
      "text/plain": [
       "'@molatv_living djarum cina bangsat gak becus, keluar dari indonesia! siaran tv euro kyk tai!'"
      ]
     },
     "execution_count": 8,
     "metadata": {},
     "output_type": "execute_result"
    }
   ],
   "source": [
    "dataFinal.text.iloc[1]"
   ]
  },
  {
   "cell_type": "code",
   "execution_count": 9,
   "id": "784012e9",
   "metadata": {},
   "outputs": [],
   "source": [
    "text = dataFinal.text.iloc[1]"
   ]
  },
  {
   "cell_type": "code",
   "execution_count": 10,
   "id": "986d998e",
   "metadata": {
    "scrolled": true
   },
   "outputs": [
    {
     "data": {
      "text/plain": [
       "{'model_pred': {'hate': 68.6210774883539, 'nonhate': 31.378922511646095},\n",
       " 'final_result': 'hate',\n",
       " 'confidence': 68.621}"
      ]
     },
     "execution_count": 10,
     "metadata": {},
     "output_type": "execute_result"
    }
   ],
   "source": [
    "mp.hateSpeechPredict(text)"
   ]
  },
  {
   "cell_type": "code",
   "execution_count": 11,
   "id": "4cd48b23",
   "metadata": {},
   "outputs": [],
   "source": [
    "text = \"alhamdulillah udah mau libur\""
   ]
  },
  {
   "cell_type": "code",
   "execution_count": 12,
   "id": "6766a3ad",
   "metadata": {},
   "outputs": [
    {
     "data": {
      "text/plain": [
       "{'model_pred': {'hate': 19.53337984176839, 'nonhate': 80.4666201582316},\n",
       " 'final_result': 'nonhate',\n",
       " 'confidence': 80.467}"
      ]
     },
     "execution_count": 12,
     "metadata": {},
     "output_type": "execute_result"
    }
   ],
   "source": [
    "mp.hateSpeechPredict(text)"
   ]
  },
  {
   "cell_type": "code",
   "execution_count": 13,
   "id": "1a098e1d",
   "metadata": {},
   "outputs": [],
   "source": [
    "text =\"bangsat anjing tai babiiiiiii kau \""
   ]
  },
  {
   "cell_type": "code",
   "execution_count": 14,
   "id": "7bf29f85",
   "metadata": {},
   "outputs": [
    {
     "data": {
      "text/plain": [
       "{'model_pred': {'hate': 98.97634434857436, 'nonhate': 1.0236556514256543},\n",
       " 'final_result': 'hate',\n",
       " 'confidence': 98.976}"
      ]
     },
     "execution_count": 14,
     "metadata": {},
     "output_type": "execute_result"
    }
   ],
   "source": [
    "mp.hateSpeechPredict(text)"
   ]
  },
  {
   "cell_type": "code",
   "execution_count": 15,
   "id": "15e1cf47",
   "metadata": {},
   "outputs": [],
   "source": [
    "dataTest = {'text':['Haha biang bangsat! Cebong lu! ',\\\n",
    "                    'Si bangsat cebong penyebar hoax ternyata anak banteng', 'Flu babi muncul di Cina, dan flu burung menyebar dr Cina ke dunia,sekarang viruskorona telah muncul d Cina Masyarakat Cina adalah masyarakat yg korup secara mental. Kt harus menyelamatkan anak2 Tiongkok telah menjadi ancaman bagikemanusiaan.#Corono', \\\n",
    "                    'Bangsat cina. I said what i said. Fuck you sepet.',\\\n",
    "                    'Dasar komunis bangsat, cina bangsat, gara2 itu laga Arsenal vs city jg nngak di siarin di negerinya segitu bencinya sama Ozil yg mengucapkan rasa simpatinya..',\\\n",
    "                    'WOI blantik ASU jelasin sejarah Cina setau saya bangsat cina yang menggarong di Indonesia #JanganPercayaBoneka #JanganPercayaBoneka',\\\n",
    "                    'D manakah bangsat cina yg mmpjuangkan hak sama rata ketika ini? Maaf bukan aku rasis tp ini juga knyataan...oh ya,bukit kepong jgn lupa',\\\n",
    "                    'Cita-cita kok meniduri 100 perempuan. Cita-cita tuh melindungi segenap bangsa Indonesia dan seluruh tumpah darah Indonesia, memajukan kesejahteraan umum, mencerdaskan kehidupan bangsa, dan ikut melaksanakan ketertiban dunia yang berdasarkan kemerdekaan',\\\n",
    "                    'Sejak proklamasi kemerdekaan, Pancasila ditetapkan sebagai ideologi bangsa Indonesia, sebagai pedoman hidup masyarakat Indonesia dalam ber.....https://facebook.com/103754998279685/posts/198032845518566/…', \\\n",
    "                    'SAYA PRIHATIN SEKALI GENERASI PENERUS BANGSA INDONESIA SEPERTI INI AKIBAT PEMBELAJARAN TATAP MUKA ON LINE YA DI BATASI MIN SEMINGGU 2X DAN HANYA 2 JAM']}"
   ]
  },
  {
   "cell_type": "code",
   "execution_count": 18,
   "id": "8d577a67",
   "metadata": {},
   "outputs": [],
   "source": [
    "dataTest=pd.DataFrame(dataTest)"
   ]
  },
  {
   "cell_type": "code",
   "execution_count": 19,
   "id": "46840e3d",
   "metadata": {},
   "outputs": [
    {
     "data": {
      "text/html": [
       "<div>\n",
       "<style scoped>\n",
       "    .dataframe tbody tr th:only-of-type {\n",
       "        vertical-align: middle;\n",
       "    }\n",
       "\n",
       "    .dataframe tbody tr th {\n",
       "        vertical-align: top;\n",
       "    }\n",
       "\n",
       "    .dataframe thead th {\n",
       "        text-align: right;\n",
       "    }\n",
       "</style>\n",
       "<table border=\"1\" class=\"dataframe\">\n",
       "  <thead>\n",
       "    <tr style=\"text-align: right;\">\n",
       "      <th></th>\n",
       "      <th>text</th>\n",
       "    </tr>\n",
       "  </thead>\n",
       "  <tbody>\n",
       "    <tr>\n",
       "      <th>0</th>\n",
       "      <td>Haha biang bangsat! Cebong lu!</td>\n",
       "    </tr>\n",
       "    <tr>\n",
       "      <th>1</th>\n",
       "      <td>Si bangsat cebong penyebar hoax ternyata anak ...</td>\n",
       "    </tr>\n",
       "    <tr>\n",
       "      <th>2</th>\n",
       "      <td>Flu babi muncul di Cina, dan flu burung menyeb...</td>\n",
       "    </tr>\n",
       "    <tr>\n",
       "      <th>3</th>\n",
       "      <td>Bangsat cina. I said what i said. Fuck you sepet.</td>\n",
       "    </tr>\n",
       "    <tr>\n",
       "      <th>4</th>\n",
       "      <td>Dasar komunis bangsat, cina bangsat, gara2 itu...</td>\n",
       "    </tr>\n",
       "    <tr>\n",
       "      <th>5</th>\n",
       "      <td>WOI blantik ASU jelasin sejarah Cina setau say...</td>\n",
       "    </tr>\n",
       "    <tr>\n",
       "      <th>6</th>\n",
       "      <td>D manakah bangsat cina yg mmpjuangkan hak sama...</td>\n",
       "    </tr>\n",
       "    <tr>\n",
       "      <th>7</th>\n",
       "      <td>Cita-cita kok meniduri 100 perempuan. Cita-cit...</td>\n",
       "    </tr>\n",
       "    <tr>\n",
       "      <th>8</th>\n",
       "      <td>Sejak proklamasi kemerdekaan, Pancasila diteta...</td>\n",
       "    </tr>\n",
       "    <tr>\n",
       "      <th>9</th>\n",
       "      <td>SAYA PRIHATIN SEKALI GENERASI PENERUS BANGSA I...</td>\n",
       "    </tr>\n",
       "  </tbody>\n",
       "</table>\n",
       "</div>"
      ],
      "text/plain": [
       "                                                text\n",
       "0                    Haha biang bangsat! Cebong lu! \n",
       "1  Si bangsat cebong penyebar hoax ternyata anak ...\n",
       "2  Flu babi muncul di Cina, dan flu burung menyeb...\n",
       "3  Bangsat cina. I said what i said. Fuck you sepet.\n",
       "4  Dasar komunis bangsat, cina bangsat, gara2 itu...\n",
       "5  WOI blantik ASU jelasin sejarah Cina setau say...\n",
       "6  D manakah bangsat cina yg mmpjuangkan hak sama...\n",
       "7  Cita-cita kok meniduri 100 perempuan. Cita-cit...\n",
       "8  Sejak proklamasi kemerdekaan, Pancasila diteta...\n",
       "9  SAYA PRIHATIN SEKALI GENERASI PENERUS BANGSA I..."
      ]
     },
     "execution_count": 19,
     "metadata": {},
     "output_type": "execute_result"
    }
   ],
   "source": [
    "dataTest"
   ]
  },
  {
   "cell_type": "code",
   "execution_count": 23,
   "id": "3cfd1731",
   "metadata": {},
   "outputs": [
    {
     "name": "stdout",
     "output_type": "stream",
     "text": [
      "<class 'pandas.core.frame.DataFrame'>\n",
      "RangeIndex: 10 entries, 0 to 9\n",
      "Data columns (total 1 columns):\n",
      " #   Column  Non-Null Count  Dtype \n",
      "---  ------  --------------  ----- \n",
      " 0   text    10 non-null     object\n",
      "dtypes: object(1)\n",
      "memory usage: 208.0+ bytes\n"
     ]
    }
   ],
   "source": [
    "dataTest.info()"
   ]
  },
  {
   "cell_type": "code",
   "execution_count": 26,
   "id": "253a37fd",
   "metadata": {},
   "outputs": [],
   "source": [
    "text = dataTest.text.iloc[0:11]"
   ]
  },
  {
   "cell_type": "code",
   "execution_count": 27,
   "id": "cb35297f",
   "metadata": {},
   "outputs": [
    {
     "data": {
      "text/plain": [
       "0                      Haha biang bangsat! Cebong lu! \n",
       "1    Si bangsat cebong penyebar hoax ternyata anak ...\n",
       "2    Flu babi muncul di Cina, dan flu burung menyeb...\n",
       "3    Bangsat cina. I said what i said. Fuck you sepet.\n",
       "4    Dasar komunis bangsat, cina bangsat, gara2 itu...\n",
       "5    WOI blantik ASU jelasin sejarah Cina setau say...\n",
       "6    D manakah bangsat cina yg mmpjuangkan hak sama...\n",
       "7    Cita-cita kok meniduri 100 perempuan. Cita-cit...\n",
       "8    Sejak proklamasi kemerdekaan, Pancasila diteta...\n",
       "9    SAYA PRIHATIN SEKALI GENERASI PENERUS BANGSA I...\n",
       "Name: text, dtype: object"
      ]
     },
     "execution_count": 27,
     "metadata": {},
     "output_type": "execute_result"
    }
   ],
   "source": [
    "text"
   ]
  },
  {
   "cell_type": "code",
   "execution_count": 28,
   "id": "0973f088",
   "metadata": {},
   "outputs": [
    {
     "data": {
      "text/plain": [
       "{'model_pred': {'hate': 97.45428702635152, 'nonhate': 2.5457129736484854},\n",
       " 'final_result': 'hate',\n",
       " 'confidence': 97.454}"
      ]
     },
     "execution_count": 28,
     "metadata": {},
     "output_type": "execute_result"
    }
   ],
   "source": [
    "mp.hateSpeechPredict(text)"
   ]
  },
  {
   "cell_type": "code",
   "execution_count": 29,
   "id": "c2cfab53",
   "metadata": {},
   "outputs": [],
   "source": [
    "text = dataTest.text.iloc[0]"
   ]
  },
  {
   "cell_type": "code",
   "execution_count": 30,
   "id": "175642b0",
   "metadata": {},
   "outputs": [
    {
     "data": {
      "text/plain": [
       "{'model_pred': {'hate': 99.76469177710983, 'nonhate': 0.23530822289016562},\n",
       " 'final_result': 'hate',\n",
       " 'confidence': 99.765}"
      ]
     },
     "execution_count": 30,
     "metadata": {},
     "output_type": "execute_result"
    }
   ],
   "source": [
    "mp.hateSpeechPredict(text)"
   ]
  },
  {
   "cell_type": "code",
   "execution_count": 31,
   "id": "f5be1927",
   "metadata": {},
   "outputs": [],
   "source": [
    "text = dataTest.text.iloc[1]"
   ]
  },
  {
   "cell_type": "code",
   "execution_count": 32,
   "id": "aa211bc3",
   "metadata": {},
   "outputs": [
    {
     "data": {
      "text/plain": [
       "{'model_pred': {'hate': 97.26008424537976, 'nonhate': 2.739915754620233},\n",
       " 'final_result': 'hate',\n",
       " 'confidence': 97.26}"
      ]
     },
     "execution_count": 32,
     "metadata": {},
     "output_type": "execute_result"
    }
   ],
   "source": [
    "mp.hateSpeechPredict(text)"
   ]
  },
  {
   "cell_type": "code",
   "execution_count": 33,
   "id": "327b5f65",
   "metadata": {},
   "outputs": [],
   "source": [
    "text = dataTest.text.iloc[2]"
   ]
  },
  {
   "cell_type": "code",
   "execution_count": 34,
   "id": "6c52ca1c",
   "metadata": {},
   "outputs": [
    {
     "data": {
      "text/plain": [
       "{'model_pred': {'hate': 33.49720320515125, 'nonhate': 66.50279679484872},\n",
       " 'final_result': 'nonhate',\n",
       " 'confidence': 66.503}"
      ]
     },
     "execution_count": 34,
     "metadata": {},
     "output_type": "execute_result"
    }
   ],
   "source": [
    "mp.hateSpeechPredict(text)"
   ]
  },
  {
   "cell_type": "code",
   "execution_count": 35,
   "id": "ed086c60",
   "metadata": {},
   "outputs": [],
   "source": [
    "text = dataTest.text.iloc[3]"
   ]
  },
  {
   "cell_type": "code",
   "execution_count": 36,
   "id": "f50201c3",
   "metadata": {},
   "outputs": [
    {
     "data": {
      "text/plain": [
       "{'model_pred': {'hate': 63.062059692114836, 'nonhate': 36.93794030788515},\n",
       " 'final_result': 'hate',\n",
       " 'confidence': 63.062}"
      ]
     },
     "execution_count": 36,
     "metadata": {},
     "output_type": "execute_result"
    }
   ],
   "source": [
    "mp.hateSpeechPredict(text)"
   ]
  },
  {
   "cell_type": "code",
   "execution_count": 37,
   "id": "5fc3ef89",
   "metadata": {},
   "outputs": [],
   "source": [
    "text = dataTest.text.iloc[4]"
   ]
  },
  {
   "cell_type": "code",
   "execution_count": 38,
   "id": "de1a2837",
   "metadata": {},
   "outputs": [
    {
     "data": {
      "text/plain": [
       "{'model_pred': {'hate': 90.62318106174997, 'nonhate': 9.376818938250036},\n",
       " 'final_result': 'hate',\n",
       " 'confidence': 90.623}"
      ]
     },
     "execution_count": 38,
     "metadata": {},
     "output_type": "execute_result"
    }
   ],
   "source": [
    "mp.hateSpeechPredict(text)"
   ]
  },
  {
   "cell_type": "code",
   "execution_count": 39,
   "id": "ebf6e0e5",
   "metadata": {},
   "outputs": [],
   "source": [
    "text = dataTest.text.iloc[5]"
   ]
  },
  {
   "cell_type": "code",
   "execution_count": 40,
   "id": "f5a149e1",
   "metadata": {},
   "outputs": [
    {
     "data": {
      "text/plain": [
       "{'model_pred': {'hate': 75.92956776657302, 'nonhate': 24.070432233427002},\n",
       " 'final_result': 'hate',\n",
       " 'confidence': 75.93}"
      ]
     },
     "execution_count": 40,
     "metadata": {},
     "output_type": "execute_result"
    }
   ],
   "source": [
    "mp.hateSpeechPredict(text)"
   ]
  },
  {
   "cell_type": "code",
   "execution_count": 41,
   "id": "06c7d591",
   "metadata": {},
   "outputs": [],
   "source": [
    "text = dataTest.text.iloc[6]"
   ]
  },
  {
   "cell_type": "code",
   "execution_count": 42,
   "id": "d2abc41b",
   "metadata": {},
   "outputs": [
    {
     "data": {
      "text/plain": [
       "{'model_pred': {'hate': 52.90816975706619, 'nonhate': 47.091830242933796},\n",
       " 'final_result': 'hate',\n",
       " 'confidence': 52.908}"
      ]
     },
     "execution_count": 42,
     "metadata": {},
     "output_type": "execute_result"
    }
   ],
   "source": [
    "mp.hateSpeechPredict(text)"
   ]
  },
  {
   "cell_type": "code",
   "execution_count": 43,
   "id": "10cc3240",
   "metadata": {},
   "outputs": [],
   "source": [
    "text = dataTest.text.iloc[7]"
   ]
  },
  {
   "cell_type": "code",
   "execution_count": 44,
   "id": "81b3a06b",
   "metadata": {},
   "outputs": [
    {
     "data": {
      "text/plain": [
       "{'model_pred': {'hate': 6.470741444821228, 'nonhate': 93.52925855517876},\n",
       " 'final_result': 'nonhate',\n",
       " 'confidence': 93.529}"
      ]
     },
     "execution_count": 44,
     "metadata": {},
     "output_type": "execute_result"
    }
   ],
   "source": [
    "mp.hateSpeechPredict(text)"
   ]
  },
  {
   "cell_type": "code",
   "execution_count": 45,
   "id": "f93f12c1",
   "metadata": {},
   "outputs": [],
   "source": [
    "text = dataTest.text.iloc[8]"
   ]
  },
  {
   "cell_type": "code",
   "execution_count": 46,
   "id": "adfac70f",
   "metadata": {},
   "outputs": [
    {
     "data": {
      "text/plain": [
       "{'model_pred': {'hate': 21.068374285388426, 'nonhate': 78.93162571461158},\n",
       " 'final_result': 'nonhate',\n",
       " 'confidence': 78.932}"
      ]
     },
     "execution_count": 46,
     "metadata": {},
     "output_type": "execute_result"
    }
   ],
   "source": [
    "mp.hateSpeechPredict(text)"
   ]
  },
  {
   "cell_type": "code",
   "execution_count": 47,
   "id": "4c18eab4",
   "metadata": {},
   "outputs": [],
   "source": [
    "text = dataTest.text.iloc[9]"
   ]
  },
  {
   "cell_type": "code",
   "execution_count": 48,
   "id": "7010b89f",
   "metadata": {},
   "outputs": [
    {
     "data": {
      "text/plain": [
       "{'model_pred': {'hate': 9.842611486926977, 'nonhate': 90.15738851307304},\n",
       " 'final_result': 'nonhate',\n",
       " 'confidence': 90.157}"
      ]
     },
     "execution_count": 48,
     "metadata": {},
     "output_type": "execute_result"
    }
   ],
   "source": [
    "mp.hateSpeechPredict(text)"
   ]
  },
  {
   "cell_type": "code",
   "execution_count": null,
   "id": "6aa48124",
   "metadata": {},
   "outputs": [],
   "source": []
  }
 ],
 "metadata": {
  "kernelspec": {
   "display_name": "Python 3",
   "language": "python",
   "name": "python3"
  },
  "language_info": {
   "codemirror_mode": {
    "name": "ipython",
    "version": 3
   },
   "file_extension": ".py",
   "mimetype": "text/x-python",
   "name": "python",
   "nbconvert_exporter": "python",
   "pygments_lexer": "ipython3",
   "version": "3.7.10"
  }
 },
 "nbformat": 4,
 "nbformat_minor": 5
}
